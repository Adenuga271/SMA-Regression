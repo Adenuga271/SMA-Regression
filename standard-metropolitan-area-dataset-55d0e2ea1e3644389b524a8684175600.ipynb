{
  "nbformat": 4,
  "nbformat_minor": 0,
  "metadata": {
    "colab": {
      "provenance": [],
      "collapsed_sections": []
    },
    "kernelspec": {
      "name": "python3",
      "display_name": "Python 3"
    },
    "language_info": {
      "name": "python"
    }
  },
  "cells": [
    {
      "cell_type": "markdown",
      "source": [
        "# Loading Libraries"
      ],
      "metadata": {
        "id": "7e_c78rM1Akt"
      }
    },
    {
      "cell_type": "code",
      "source": [
        "import numpy as np #Library for Linear Algebra\n",
        "import pandas as pd #Library for Data Manipulation"
      ],
      "metadata": {
        "id": "Npj8Jmhn1PEe"
      },
      "execution_count": 1,
      "outputs": []
    },
    {
      "cell_type": "markdown",
      "source": [
        "# Importing Standard Metropolitan Dataset"
      ],
      "metadata": {
        "id": "JYaUIEhp1hp6"
      }
    },
    {
      "cell_type": "code",
      "source": [
        "from google.colab import files\n",
        "uploaded = files.upload()"
      ],
      "metadata": {
        "colab": {
          "resources": {
            "http://localhost:8080/nbextensions/google.colab/files.js": {
              "data": "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",
              "ok": true,
              "headers": [
                [
                  "content-type",
                  "application/javascript"
                ]
              ],
              "status": 200,
              "status_text": ""
            }
          },
          "base_uri": "https://localhost:8080/",
          "height": 74
        },
        "id": "hkmMTQXg1s0q",
        "outputId": "b149c08c-47ea-4aa1-c93e-967c68af5c54"
      },
      "execution_count": 2,
      "outputs": [
        {
          "output_type": "display_data",
          "data": {
            "text/plain": [
              "<IPython.core.display.HTML object>"
            ],
            "text/html": [
              "\n",
              "     <input type=\"file\" id=\"files-62c9c3fa-8723-418b-9db0-57edcc612d6e\" name=\"files[]\" multiple disabled\n",
              "        style=\"border:none\" />\n",
              "     <output id=\"result-62c9c3fa-8723-418b-9db0-57edcc612d6e\">\n",
              "      Upload widget is only available when the cell has been executed in the\n",
              "      current browser session. Please rerun this cell to enable.\n",
              "      </output>\n",
              "      <script src=\"/nbextensions/google.colab/files.js\"></script> "
            ]
          },
          "metadata": {}
        },
        {
          "output_type": "stream",
          "name": "stdout",
          "text": [
            "Saving Standard Metropolitan Areas Dataset.csv to Standard Metropolitan Areas Dataset.csv\n"
          ]
        }
      ]
    },
    {
      "cell_type": "code",
      "source": [
        "SMA = pd.read_csv('Standard Metropolitan Areas Dataset.csv')"
      ],
      "metadata": {
        "id": "Cyuk_rlf10wO"
      },
      "execution_count": 3,
      "outputs": []
    },
    {
      "cell_type": "markdown",
      "source": [
        "# Checking for missingness in variables using the info() function"
      ],
      "metadata": {
        "id": "mtUaux_a2h5M"
      }
    },
    {
      "cell_type": "code",
      "source": [
        "SMA.info()"
      ],
      "metadata": {
        "colab": {
          "base_uri": "https://localhost:8080/"
        },
        "id": "XFYQavma2vdk",
        "outputId": "50f66d8f-1e40-4010-c8e0-6c2a4602cc6e"
      },
      "execution_count": 4,
      "outputs": [
        {
          "output_type": "stream",
          "name": "stdout",
          "text": [
            "<class 'pandas.core.frame.DataFrame'>\n",
            "RangeIndex: 99 entries, 0 to 98\n",
            "Data columns (total 10 columns):\n",
            " #   Column          Non-Null Count  Dtype  \n",
            "---  ------          --------------  -----  \n",
            " 0   land_area       99 non-null     int64  \n",
            " 1   percent_city    99 non-null     float64\n",
            " 2   percent_senior  99 non-null     float64\n",
            " 3   physicians      99 non-null     int64  \n",
            " 4   hospital_beds   99 non-null     int64  \n",
            " 5   graduates       99 non-null     float64\n",
            " 6   work_force      99 non-null     float64\n",
            " 7   income          99 non-null     int64  \n",
            " 8   region          99 non-null     int64  \n",
            " 9   crime_rate      99 non-null     float64\n",
            "dtypes: float64(5), int64(5)\n",
            "memory usage: 7.9 KB\n"
          ]
        }
      ]
    },
    {
      "cell_type": "markdown",
      "source": [
        "## There are no missing values in the SMA dataset\n",
        "### There are ten (10) columns/features/variables in the SMA dataset and ninety-nine (99) rows\n",
        "#### crime_rate is the outcome or target variable (y) and other variables excluding crime_rate are the input variables (x)"
      ],
      "metadata": {
        "id": "CWI05Hxz2xOL"
      }
    },
    {
      "cell_type": "markdown",
      "source": [
        "# Using the head() and tail() function on the SMA dataset\n",
        "### These functions will further help in observing and understanding the SMA dataset"
      ],
      "metadata": {
        "id": "vw-cgjNF35OC"
      }
    },
    {
      "cell_type": "code",
      "source": [
        "SMA.head() # Returns the first five row of the SMA dataset"
      ],
      "metadata": {
        "colab": {
          "base_uri": "https://localhost:8080/",
          "height": 206
        },
        "id": "t96NuXOc5SNc",
        "outputId": "18d0722e-1c4f-4af9-963f-b42642bc7d06"
      },
      "execution_count": 6,
      "outputs": [
        {
          "output_type": "execute_result",
          "data": {
            "text/plain": [
              "   land_area  percent_city  percent_senior  physicians  hospital_beds  \\\n",
              "0       1384          78.1            12.3       25627          69678   \n",
              "1       3719          43.9             9.4       13326          43292   \n",
              "2       3553          37.4            10.7        9724          33731   \n",
              "3       3916          29.9             8.8        6402          24167   \n",
              "4       2480          31.5            10.5        8502          16751   \n",
              "\n",
              "   graduates  work_force  income  region  crime_rate  \n",
              "0       50.1      4083.9   72100       1       75.55  \n",
              "1       53.9      3305.9   54542       2       56.03  \n",
              "2       50.6      2066.3   33216       1       41.32  \n",
              "3       52.2      1966.7   32906       2       67.38  \n",
              "4       66.1      1514.5   26573       4       80.19  "
            ],
            "text/html": [
              "\n",
              "  <div id=\"df-be9605fd-23a0-43be-a229-9323fc73214c\">\n",
              "    <div class=\"colab-df-container\">\n",
              "      <div>\n",
              "<style scoped>\n",
              "    .dataframe tbody tr th:only-of-type {\n",
              "        vertical-align: middle;\n",
              "    }\n",
              "\n",
              "    .dataframe tbody tr th {\n",
              "        vertical-align: top;\n",
              "    }\n",
              "\n",
              "    .dataframe thead th {\n",
              "        text-align: right;\n",
              "    }\n",
              "</style>\n",
              "<table border=\"1\" class=\"dataframe\">\n",
              "  <thead>\n",
              "    <tr style=\"text-align: right;\">\n",
              "      <th></th>\n",
              "      <th>land_area</th>\n",
              "      <th>percent_city</th>\n",
              "      <th>percent_senior</th>\n",
              "      <th>physicians</th>\n",
              "      <th>hospital_beds</th>\n",
              "      <th>graduates</th>\n",
              "      <th>work_force</th>\n",
              "      <th>income</th>\n",
              "      <th>region</th>\n",
              "      <th>crime_rate</th>\n",
              "    </tr>\n",
              "  </thead>\n",
              "  <tbody>\n",
              "    <tr>\n",
              "      <th>0</th>\n",
              "      <td>1384</td>\n",
              "      <td>78.1</td>\n",
              "      <td>12.3</td>\n",
              "      <td>25627</td>\n",
              "      <td>69678</td>\n",
              "      <td>50.1</td>\n",
              "      <td>4083.9</td>\n",
              "      <td>72100</td>\n",
              "      <td>1</td>\n",
              "      <td>75.55</td>\n",
              "    </tr>\n",
              "    <tr>\n",
              "      <th>1</th>\n",
              "      <td>3719</td>\n",
              "      <td>43.9</td>\n",
              "      <td>9.4</td>\n",
              "      <td>13326</td>\n",
              "      <td>43292</td>\n",
              "      <td>53.9</td>\n",
              "      <td>3305.9</td>\n",
              "      <td>54542</td>\n",
              "      <td>2</td>\n",
              "      <td>56.03</td>\n",
              "    </tr>\n",
              "    <tr>\n",
              "      <th>2</th>\n",
              "      <td>3553</td>\n",
              "      <td>37.4</td>\n",
              "      <td>10.7</td>\n",
              "      <td>9724</td>\n",
              "      <td>33731</td>\n",
              "      <td>50.6</td>\n",
              "      <td>2066.3</td>\n",
              "      <td>33216</td>\n",
              "      <td>1</td>\n",
              "      <td>41.32</td>\n",
              "    </tr>\n",
              "    <tr>\n",
              "      <th>3</th>\n",
              "      <td>3916</td>\n",
              "      <td>29.9</td>\n",
              "      <td>8.8</td>\n",
              "      <td>6402</td>\n",
              "      <td>24167</td>\n",
              "      <td>52.2</td>\n",
              "      <td>1966.7</td>\n",
              "      <td>32906</td>\n",
              "      <td>2</td>\n",
              "      <td>67.38</td>\n",
              "    </tr>\n",
              "    <tr>\n",
              "      <th>4</th>\n",
              "      <td>2480</td>\n",
              "      <td>31.5</td>\n",
              "      <td>10.5</td>\n",
              "      <td>8502</td>\n",
              "      <td>16751</td>\n",
              "      <td>66.1</td>\n",
              "      <td>1514.5</td>\n",
              "      <td>26573</td>\n",
              "      <td>4</td>\n",
              "      <td>80.19</td>\n",
              "    </tr>\n",
              "  </tbody>\n",
              "</table>\n",
              "</div>\n",
              "      <button class=\"colab-df-convert\" onclick=\"convertToInteractive('df-be9605fd-23a0-43be-a229-9323fc73214c')\"\n",
              "              title=\"Convert this dataframe to an interactive table.\"\n",
              "              style=\"display:none;\">\n",
              "        \n",
              "  <svg xmlns=\"http://www.w3.org/2000/svg\" height=\"24px\"viewBox=\"0 0 24 24\"\n",
              "       width=\"24px\">\n",
              "    <path d=\"M0 0h24v24H0V0z\" fill=\"none\"/>\n",
              "    <path d=\"M18.56 5.44l.94 2.06.94-2.06 2.06-.94-2.06-.94-.94-2.06-.94 2.06-2.06.94zm-11 1L8.5 8.5l.94-2.06 2.06-.94-2.06-.94L8.5 2.5l-.94 2.06-2.06.94zm10 10l.94 2.06.94-2.06 2.06-.94-2.06-.94-.94-2.06-.94 2.06-2.06.94z\"/><path d=\"M17.41 7.96l-1.37-1.37c-.4-.4-.92-.59-1.43-.59-.52 0-1.04.2-1.43.59L10.3 9.45l-7.72 7.72c-.78.78-.78 2.05 0 2.83L4 21.41c.39.39.9.59 1.41.59.51 0 1.02-.2 1.41-.59l7.78-7.78 2.81-2.81c.8-.78.8-2.07 0-2.86zM5.41 20L4 18.59l7.72-7.72 1.47 1.35L5.41 20z\"/>\n",
              "  </svg>\n",
              "      </button>\n",
              "      \n",
              "  <style>\n",
              "    .colab-df-container {\n",
              "      display:flex;\n",
              "      flex-wrap:wrap;\n",
              "      gap: 12px;\n",
              "    }\n",
              "\n",
              "    .colab-df-convert {\n",
              "      background-color: #E8F0FE;\n",
              "      border: none;\n",
              "      border-radius: 50%;\n",
              "      cursor: pointer;\n",
              "      display: none;\n",
              "      fill: #1967D2;\n",
              "      height: 32px;\n",
              "      padding: 0 0 0 0;\n",
              "      width: 32px;\n",
              "    }\n",
              "\n",
              "    .colab-df-convert:hover {\n",
              "      background-color: #E2EBFA;\n",
              "      box-shadow: 0px 1px 2px rgba(60, 64, 67, 0.3), 0px 1px 3px 1px rgba(60, 64, 67, 0.15);\n",
              "      fill: #174EA6;\n",
              "    }\n",
              "\n",
              "    [theme=dark] .colab-df-convert {\n",
              "      background-color: #3B4455;\n",
              "      fill: #D2E3FC;\n",
              "    }\n",
              "\n",
              "    [theme=dark] .colab-df-convert:hover {\n",
              "      background-color: #434B5C;\n",
              "      box-shadow: 0px 1px 3px 1px rgba(0, 0, 0, 0.15);\n",
              "      filter: drop-shadow(0px 1px 2px rgba(0, 0, 0, 0.3));\n",
              "      fill: #FFFFFF;\n",
              "    }\n",
              "  </style>\n",
              "\n",
              "      <script>\n",
              "        const buttonEl =\n",
              "          document.querySelector('#df-be9605fd-23a0-43be-a229-9323fc73214c button.colab-df-convert');\n",
              "        buttonEl.style.display =\n",
              "          google.colab.kernel.accessAllowed ? 'block' : 'none';\n",
              "\n",
              "        async function convertToInteractive(key) {\n",
              "          const element = document.querySelector('#df-be9605fd-23a0-43be-a229-9323fc73214c');\n",
              "          const dataTable =\n",
              "            await google.colab.kernel.invokeFunction('convertToInteractive',\n",
              "                                                     [key], {});\n",
              "          if (!dataTable) return;\n",
              "\n",
              "          const docLinkHtml = 'Like what you see? Visit the ' +\n",
              "            '<a target=\"_blank\" href=https://colab.research.google.com/notebooks/data_table.ipynb>data table notebook</a>'\n",
              "            + ' to learn more about interactive tables.';\n",
              "          element.innerHTML = '';\n",
              "          dataTable['output_type'] = 'display_data';\n",
              "          await google.colab.output.renderOutput(dataTable, element);\n",
              "          const docLink = document.createElement('div');\n",
              "          docLink.innerHTML = docLinkHtml;\n",
              "          element.appendChild(docLink);\n",
              "        }\n",
              "      </script>\n",
              "    </div>\n",
              "  </div>\n",
              "  "
            ]
          },
          "metadata": {},
          "execution_count": 6
        }
      ]
    },
    {
      "cell_type": "markdown",
      "source": [
        "#### It can be observed that the numeric values above are in int(whole number) and float(decimal number).\n",
        "#### It is important to note that the region is a categorical variable."
      ],
      "metadata": {
        "id": "sg0VLJ9G5UVP"
      }
    },
    {
      "cell_type": "markdown",
      "source": [
        "# Checking for the unique value of the categorical variable (region)"
      ],
      "metadata": {
        "id": "LVVR4HrB8IIe"
      }
    },
    {
      "cell_type": "code",
      "source": [
        "SMA['region'].unique()"
      ],
      "metadata": {
        "colab": {
          "base_uri": "https://localhost:8080/"
        },
        "id": "lT5mshw_8Wpr",
        "outputId": "a6b241e3-aafa-4103-fc6a-8fc5f5d0ed7a"
      },
      "execution_count": 7,
      "outputs": [
        {
          "output_type": "execute_result",
          "data": {
            "text/plain": [
              "array([1, 2, 4, 3])"
            ]
          },
          "metadata": {},
          "execution_count": 7
        }
      ]
    },
    {
      "cell_type": "markdown",
      "source": [
        "# The unique value above expresses that there are four regions in the SMA dataset\n",
        "### From kaggle.com these regions include:\n",
        "#### 1 = North-East, 2 = North-Central, 3 = South, 4 = West.\n",
        "\n",
        "## In the case of categorical variables, it is necessary to do a one hot encoding i.e. coverting information into binary (0s & 1s) but the instruction seeks for a non-technical decision tree model"
      ],
      "metadata": {
        "id": "MnVkC-2X8gv8"
      }
    },
    {
      "cell_type": "code",
      "source": [
        "SMA.tail() # Returns the last five rows of the SMA dataset"
      ],
      "metadata": {
        "colab": {
          "base_uri": "https://localhost:8080/",
          "height": 206
        },
        "id": "EZQRO3FK9coW",
        "outputId": "e6d4668f-262f-4f4a-cad7-7d61d9a53edd"
      },
      "execution_count": 10,
      "outputs": [
        {
          "output_type": "execute_result",
          "data": {
            "text/plain": [
              "    land_area  percent_city  percent_senior  physicians  hospital_beds  \\\n",
              "94       1511          38.7            10.7         348           1093   \n",
              "95       1543          39.6             8.1         159            481   \n",
              "96       1011          37.8            10.5         264            964   \n",
              "97        813          13.4            10.9         371           4355   \n",
              "98        654          28.8             3.9         140           1296   \n",
              "\n",
              "    graduates  work_force  income  region  crime_rate  \n",
              "94       50.4       127.2    1452       4       70.66  \n",
              "95       30.3        80.6     769       3       36.36  \n",
              "96       70.7        93.2    1337       3       60.16  \n",
              "97       58.0        97.0    1589       1       36.33  \n",
              "98       55.1        66.9    1148       3       68.76  "
            ],
            "text/html": [
              "\n",
              "  <div id=\"df-47fecac7-e1fa-4cdc-94e7-6f678c910a29\">\n",
              "    <div class=\"colab-df-container\">\n",
              "      <div>\n",
              "<style scoped>\n",
              "    .dataframe tbody tr th:only-of-type {\n",
              "        vertical-align: middle;\n",
              "    }\n",
              "\n",
              "    .dataframe tbody tr th {\n",
              "        vertical-align: top;\n",
              "    }\n",
              "\n",
              "    .dataframe thead th {\n",
              "        text-align: right;\n",
              "    }\n",
              "</style>\n",
              "<table border=\"1\" class=\"dataframe\">\n",
              "  <thead>\n",
              "    <tr style=\"text-align: right;\">\n",
              "      <th></th>\n",
              "      <th>land_area</th>\n",
              "      <th>percent_city</th>\n",
              "      <th>percent_senior</th>\n",
              "      <th>physicians</th>\n",
              "      <th>hospital_beds</th>\n",
              "      <th>graduates</th>\n",
              "      <th>work_force</th>\n",
              "      <th>income</th>\n",
              "      <th>region</th>\n",
              "      <th>crime_rate</th>\n",
              "    </tr>\n",
              "  </thead>\n",
              "  <tbody>\n",
              "    <tr>\n",
              "      <th>94</th>\n",
              "      <td>1511</td>\n",
              "      <td>38.7</td>\n",
              "      <td>10.7</td>\n",
              "      <td>348</td>\n",
              "      <td>1093</td>\n",
              "      <td>50.4</td>\n",
              "      <td>127.2</td>\n",
              "      <td>1452</td>\n",
              "      <td>4</td>\n",
              "      <td>70.66</td>\n",
              "    </tr>\n",
              "    <tr>\n",
              "      <th>95</th>\n",
              "      <td>1543</td>\n",
              "      <td>39.6</td>\n",
              "      <td>8.1</td>\n",
              "      <td>159</td>\n",
              "      <td>481</td>\n",
              "      <td>30.3</td>\n",
              "      <td>80.6</td>\n",
              "      <td>769</td>\n",
              "      <td>3</td>\n",
              "      <td>36.36</td>\n",
              "    </tr>\n",
              "    <tr>\n",
              "      <th>96</th>\n",
              "      <td>1011</td>\n",
              "      <td>37.8</td>\n",
              "      <td>10.5</td>\n",
              "      <td>264</td>\n",
              "      <td>964</td>\n",
              "      <td>70.7</td>\n",
              "      <td>93.2</td>\n",
              "      <td>1337</td>\n",
              "      <td>3</td>\n",
              "      <td>60.16</td>\n",
              "    </tr>\n",
              "    <tr>\n",
              "      <th>97</th>\n",
              "      <td>813</td>\n",
              "      <td>13.4</td>\n",
              "      <td>10.9</td>\n",
              "      <td>371</td>\n",
              "      <td>4355</td>\n",
              "      <td>58.0</td>\n",
              "      <td>97.0</td>\n",
              "      <td>1589</td>\n",
              "      <td>1</td>\n",
              "      <td>36.33</td>\n",
              "    </tr>\n",
              "    <tr>\n",
              "      <th>98</th>\n",
              "      <td>654</td>\n",
              "      <td>28.8</td>\n",
              "      <td>3.9</td>\n",
              "      <td>140</td>\n",
              "      <td>1296</td>\n",
              "      <td>55.1</td>\n",
              "      <td>66.9</td>\n",
              "      <td>1148</td>\n",
              "      <td>3</td>\n",
              "      <td>68.76</td>\n",
              "    </tr>\n",
              "  </tbody>\n",
              "</table>\n",
              "</div>\n",
              "      <button class=\"colab-df-convert\" onclick=\"convertToInteractive('df-47fecac7-e1fa-4cdc-94e7-6f678c910a29')\"\n",
              "              title=\"Convert this dataframe to an interactive table.\"\n",
              "              style=\"display:none;\">\n",
              "        \n",
              "  <svg xmlns=\"http://www.w3.org/2000/svg\" height=\"24px\"viewBox=\"0 0 24 24\"\n",
              "       width=\"24px\">\n",
              "    <path d=\"M0 0h24v24H0V0z\" fill=\"none\"/>\n",
              "    <path d=\"M18.56 5.44l.94 2.06.94-2.06 2.06-.94-2.06-.94-.94-2.06-.94 2.06-2.06.94zm-11 1L8.5 8.5l.94-2.06 2.06-.94-2.06-.94L8.5 2.5l-.94 2.06-2.06.94zm10 10l.94 2.06.94-2.06 2.06-.94-2.06-.94-.94-2.06-.94 2.06-2.06.94z\"/><path d=\"M17.41 7.96l-1.37-1.37c-.4-.4-.92-.59-1.43-.59-.52 0-1.04.2-1.43.59L10.3 9.45l-7.72 7.72c-.78.78-.78 2.05 0 2.83L4 21.41c.39.39.9.59 1.41.59.51 0 1.02-.2 1.41-.59l7.78-7.78 2.81-2.81c.8-.78.8-2.07 0-2.86zM5.41 20L4 18.59l7.72-7.72 1.47 1.35L5.41 20z\"/>\n",
              "  </svg>\n",
              "      </button>\n",
              "      \n",
              "  <style>\n",
              "    .colab-df-container {\n",
              "      display:flex;\n",
              "      flex-wrap:wrap;\n",
              "      gap: 12px;\n",
              "    }\n",
              "\n",
              "    .colab-df-convert {\n",
              "      background-color: #E8F0FE;\n",
              "      border: none;\n",
              "      border-radius: 50%;\n",
              "      cursor: pointer;\n",
              "      display: none;\n",
              "      fill: #1967D2;\n",
              "      height: 32px;\n",
              "      padding: 0 0 0 0;\n",
              "      width: 32px;\n",
              "    }\n",
              "\n",
              "    .colab-df-convert:hover {\n",
              "      background-color: #E2EBFA;\n",
              "      box-shadow: 0px 1px 2px rgba(60, 64, 67, 0.3), 0px 1px 3px 1px rgba(60, 64, 67, 0.15);\n",
              "      fill: #174EA6;\n",
              "    }\n",
              "\n",
              "    [theme=dark] .colab-df-convert {\n",
              "      background-color: #3B4455;\n",
              "      fill: #D2E3FC;\n",
              "    }\n",
              "\n",
              "    [theme=dark] .colab-df-convert:hover {\n",
              "      background-color: #434B5C;\n",
              "      box-shadow: 0px 1px 3px 1px rgba(0, 0, 0, 0.15);\n",
              "      filter: drop-shadow(0px 1px 2px rgba(0, 0, 0, 0.3));\n",
              "      fill: #FFFFFF;\n",
              "    }\n",
              "  </style>\n",
              "\n",
              "      <script>\n",
              "        const buttonEl =\n",
              "          document.querySelector('#df-47fecac7-e1fa-4cdc-94e7-6f678c910a29 button.colab-df-convert');\n",
              "        buttonEl.style.display =\n",
              "          google.colab.kernel.accessAllowed ? 'block' : 'none';\n",
              "\n",
              "        async function convertToInteractive(key) {\n",
              "          const element = document.querySelector('#df-47fecac7-e1fa-4cdc-94e7-6f678c910a29');\n",
              "          const dataTable =\n",
              "            await google.colab.kernel.invokeFunction('convertToInteractive',\n",
              "                                                     [key], {});\n",
              "          if (!dataTable) return;\n",
              "\n",
              "          const docLinkHtml = 'Like what you see? Visit the ' +\n",
              "            '<a target=\"_blank\" href=https://colab.research.google.com/notebooks/data_table.ipynb>data table notebook</a>'\n",
              "            + ' to learn more about interactive tables.';\n",
              "          element.innerHTML = '';\n",
              "          dataTable['output_type'] = 'display_data';\n",
              "          await google.colab.output.renderOutput(dataTable, element);\n",
              "          const docLink = document.createElement('div');\n",
              "          docLink.innerHTML = docLinkHtml;\n",
              "          element.appendChild(docLink);\n",
              "        }\n",
              "      </script>\n",
              "    </div>\n",
              "  </div>\n",
              "  "
            ]
          },
          "metadata": {},
          "execution_count": 10
        }
      ]
    },
    {
      "cell_type": "markdown",
      "source": [
        "#### It can be reconfirmed from the tail function that there are 99 rows in the SMA dataset "
      ],
      "metadata": {
        "id": "--VySdVP9qb3"
      }
    },
    {
      "cell_type": "markdown",
      "source": [
        "# Splitting features/variables into outcome/target variable (y) and input variables (x)"
      ],
      "metadata": {
        "id": "Xmwiy2oY_VqX"
      }
    },
    {
      "cell_type": "code",
      "source": [
        "x = SMA.drop(['crime_rate'], axis=1) # This means include all other features in the SMA dataset except crime_rate, axis=1 means that the command should be done on the columns\n",
        "y = SMA['crime_rate'] # This means assign crime_rate only to y."
      ],
      "metadata": {
        "id": "gZMjdtgL_nuY"
      },
      "execution_count": 11,
      "outputs": []
    },
    {
      "cell_type": "code",
      "source": [
        "x.info() # This is to reaffirm that there are no missing values in the input variables"
      ],
      "metadata": {
        "colab": {
          "base_uri": "https://localhost:8080/"
        },
        "id": "Y8hE1TweAQca",
        "outputId": "d2f78be5-0ee4-4c83-8e7a-6dbf4b6fc91e"
      },
      "execution_count": 13,
      "outputs": [
        {
          "output_type": "stream",
          "name": "stdout",
          "text": [
            "<class 'pandas.core.frame.DataFrame'>\n",
            "RangeIndex: 99 entries, 0 to 98\n",
            "Data columns (total 9 columns):\n",
            " #   Column          Non-Null Count  Dtype  \n",
            "---  ------          --------------  -----  \n",
            " 0   land_area       99 non-null     int64  \n",
            " 1   percent_city    99 non-null     float64\n",
            " 2   percent_senior  99 non-null     float64\n",
            " 3   physicians      99 non-null     int64  \n",
            " 4   hospital_beds   99 non-null     int64  \n",
            " 5   graduates       99 non-null     float64\n",
            " 6   work_force      99 non-null     float64\n",
            " 7   income          99 non-null     int64  \n",
            " 8   region          99 non-null     int64  \n",
            "dtypes: float64(4), int64(5)\n",
            "memory usage: 7.1 KB\n"
          ]
        }
      ]
    },
    {
      "cell_type": "markdown",
      "source": [
        "## There are no missing values in the input variables.\n",
        "\n",
        "\n",
        "### Describing the input variables"
      ],
      "metadata": {
        "id": "DBaZCJblA7Sd"
      }
    },
    {
      "cell_type": "code",
      "source": [
        "x.describe() # This will help explore the input variables"
      ],
      "metadata": {
        "colab": {
          "base_uri": "https://localhost:8080/",
          "height": 300
        },
        "id": "D7m3VmgwBhO2",
        "outputId": "79c0154b-a260-4718-d077-5da613a2db57"
      },
      "execution_count": 14,
      "outputs": [
        {
          "output_type": "execute_result",
          "data": {
            "text/plain": [
              "          land_area  percent_city  percent_senior    physicians  \\\n",
              "count     99.000000     99.000000       99.000000     99.000000   \n",
              "mean    2615.727273     42.518182        9.781818   1828.333333   \n",
              "std     3045.826210     17.348277        2.524547   3192.199763   \n",
              "min       47.000000     13.400000        3.900000    140.000000   \n",
              "25%     1408.000000     30.100000        8.350000    459.000000   \n",
              "50%     1951.000000     39.500000        9.700000    774.000000   \n",
              "75%     2890.500000     52.600000       10.750000   1911.500000   \n",
              "max    27293.000000    100.000000       21.800000  25627.000000   \n",
              "\n",
              "       hospital_beds  graduates   work_force        income     region  \n",
              "count      99.000000  99.000000    99.000000     99.000000  99.000000  \n",
              "mean     6345.868687  54.463636   449.366667   6762.505051   2.494949  \n",
              "std      9136.202716   7.773286   610.990885  10393.349660   1.013921  \n",
              "min       481.000000  30.300000    66.900000    769.000000   1.000000  \n",
              "25%      2390.000000  50.250000   150.300000   2003.000000   2.000000  \n",
              "50%      3472.000000  54.000000   257.200000   3510.000000   3.000000  \n",
              "75%      6386.500000  58.300000   436.500000   6283.500000   3.000000  \n",
              "max     69678.000000  72.800000  4083.900000  72100.000000   4.000000  "
            ],
            "text/html": [
              "\n",
              "  <div id=\"df-383a23b7-77e5-4c7b-84fb-427543c58cfe\">\n",
              "    <div class=\"colab-df-container\">\n",
              "      <div>\n",
              "<style scoped>\n",
              "    .dataframe tbody tr th:only-of-type {\n",
              "        vertical-align: middle;\n",
              "    }\n",
              "\n",
              "    .dataframe tbody tr th {\n",
              "        vertical-align: top;\n",
              "    }\n",
              "\n",
              "    .dataframe thead th {\n",
              "        text-align: right;\n",
              "    }\n",
              "</style>\n",
              "<table border=\"1\" class=\"dataframe\">\n",
              "  <thead>\n",
              "    <tr style=\"text-align: right;\">\n",
              "      <th></th>\n",
              "      <th>land_area</th>\n",
              "      <th>percent_city</th>\n",
              "      <th>percent_senior</th>\n",
              "      <th>physicians</th>\n",
              "      <th>hospital_beds</th>\n",
              "      <th>graduates</th>\n",
              "      <th>work_force</th>\n",
              "      <th>income</th>\n",
              "      <th>region</th>\n",
              "    </tr>\n",
              "  </thead>\n",
              "  <tbody>\n",
              "    <tr>\n",
              "      <th>count</th>\n",
              "      <td>99.000000</td>\n",
              "      <td>99.000000</td>\n",
              "      <td>99.000000</td>\n",
              "      <td>99.000000</td>\n",
              "      <td>99.000000</td>\n",
              "      <td>99.000000</td>\n",
              "      <td>99.000000</td>\n",
              "      <td>99.000000</td>\n",
              "      <td>99.000000</td>\n",
              "    </tr>\n",
              "    <tr>\n",
              "      <th>mean</th>\n",
              "      <td>2615.727273</td>\n",
              "      <td>42.518182</td>\n",
              "      <td>9.781818</td>\n",
              "      <td>1828.333333</td>\n",
              "      <td>6345.868687</td>\n",
              "      <td>54.463636</td>\n",
              "      <td>449.366667</td>\n",
              "      <td>6762.505051</td>\n",
              "      <td>2.494949</td>\n",
              "    </tr>\n",
              "    <tr>\n",
              "      <th>std</th>\n",
              "      <td>3045.826210</td>\n",
              "      <td>17.348277</td>\n",
              "      <td>2.524547</td>\n",
              "      <td>3192.199763</td>\n",
              "      <td>9136.202716</td>\n",
              "      <td>7.773286</td>\n",
              "      <td>610.990885</td>\n",
              "      <td>10393.349660</td>\n",
              "      <td>1.013921</td>\n",
              "    </tr>\n",
              "    <tr>\n",
              "      <th>min</th>\n",
              "      <td>47.000000</td>\n",
              "      <td>13.400000</td>\n",
              "      <td>3.900000</td>\n",
              "      <td>140.000000</td>\n",
              "      <td>481.000000</td>\n",
              "      <td>30.300000</td>\n",
              "      <td>66.900000</td>\n",
              "      <td>769.000000</td>\n",
              "      <td>1.000000</td>\n",
              "    </tr>\n",
              "    <tr>\n",
              "      <th>25%</th>\n",
              "      <td>1408.000000</td>\n",
              "      <td>30.100000</td>\n",
              "      <td>8.350000</td>\n",
              "      <td>459.000000</td>\n",
              "      <td>2390.000000</td>\n",
              "      <td>50.250000</td>\n",
              "      <td>150.300000</td>\n",
              "      <td>2003.000000</td>\n",
              "      <td>2.000000</td>\n",
              "    </tr>\n",
              "    <tr>\n",
              "      <th>50%</th>\n",
              "      <td>1951.000000</td>\n",
              "      <td>39.500000</td>\n",
              "      <td>9.700000</td>\n",
              "      <td>774.000000</td>\n",
              "      <td>3472.000000</td>\n",
              "      <td>54.000000</td>\n",
              "      <td>257.200000</td>\n",
              "      <td>3510.000000</td>\n",
              "      <td>3.000000</td>\n",
              "    </tr>\n",
              "    <tr>\n",
              "      <th>75%</th>\n",
              "      <td>2890.500000</td>\n",
              "      <td>52.600000</td>\n",
              "      <td>10.750000</td>\n",
              "      <td>1911.500000</td>\n",
              "      <td>6386.500000</td>\n",
              "      <td>58.300000</td>\n",
              "      <td>436.500000</td>\n",
              "      <td>6283.500000</td>\n",
              "      <td>3.000000</td>\n",
              "    </tr>\n",
              "    <tr>\n",
              "      <th>max</th>\n",
              "      <td>27293.000000</td>\n",
              "      <td>100.000000</td>\n",
              "      <td>21.800000</td>\n",
              "      <td>25627.000000</td>\n",
              "      <td>69678.000000</td>\n",
              "      <td>72.800000</td>\n",
              "      <td>4083.900000</td>\n",
              "      <td>72100.000000</td>\n",
              "      <td>4.000000</td>\n",
              "    </tr>\n",
              "  </tbody>\n",
              "</table>\n",
              "</div>\n",
              "      <button class=\"colab-df-convert\" onclick=\"convertToInteractive('df-383a23b7-77e5-4c7b-84fb-427543c58cfe')\"\n",
              "              title=\"Convert this dataframe to an interactive table.\"\n",
              "              style=\"display:none;\">\n",
              "        \n",
              "  <svg xmlns=\"http://www.w3.org/2000/svg\" height=\"24px\"viewBox=\"0 0 24 24\"\n",
              "       width=\"24px\">\n",
              "    <path d=\"M0 0h24v24H0V0z\" fill=\"none\"/>\n",
              "    <path d=\"M18.56 5.44l.94 2.06.94-2.06 2.06-.94-2.06-.94-.94-2.06-.94 2.06-2.06.94zm-11 1L8.5 8.5l.94-2.06 2.06-.94-2.06-.94L8.5 2.5l-.94 2.06-2.06.94zm10 10l.94 2.06.94-2.06 2.06-.94-2.06-.94-.94-2.06-.94 2.06-2.06.94z\"/><path d=\"M17.41 7.96l-1.37-1.37c-.4-.4-.92-.59-1.43-.59-.52 0-1.04.2-1.43.59L10.3 9.45l-7.72 7.72c-.78.78-.78 2.05 0 2.83L4 21.41c.39.39.9.59 1.41.59.51 0 1.02-.2 1.41-.59l7.78-7.78 2.81-2.81c.8-.78.8-2.07 0-2.86zM5.41 20L4 18.59l7.72-7.72 1.47 1.35L5.41 20z\"/>\n",
              "  </svg>\n",
              "      </button>\n",
              "      \n",
              "  <style>\n",
              "    .colab-df-container {\n",
              "      display:flex;\n",
              "      flex-wrap:wrap;\n",
              "      gap: 12px;\n",
              "    }\n",
              "\n",
              "    .colab-df-convert {\n",
              "      background-color: #E8F0FE;\n",
              "      border: none;\n",
              "      border-radius: 50%;\n",
              "      cursor: pointer;\n",
              "      display: none;\n",
              "      fill: #1967D2;\n",
              "      height: 32px;\n",
              "      padding: 0 0 0 0;\n",
              "      width: 32px;\n",
              "    }\n",
              "\n",
              "    .colab-df-convert:hover {\n",
              "      background-color: #E2EBFA;\n",
              "      box-shadow: 0px 1px 2px rgba(60, 64, 67, 0.3), 0px 1px 3px 1px rgba(60, 64, 67, 0.15);\n",
              "      fill: #174EA6;\n",
              "    }\n",
              "\n",
              "    [theme=dark] .colab-df-convert {\n",
              "      background-color: #3B4455;\n",
              "      fill: #D2E3FC;\n",
              "    }\n",
              "\n",
              "    [theme=dark] .colab-df-convert:hover {\n",
              "      background-color: #434B5C;\n",
              "      box-shadow: 0px 1px 3px 1px rgba(0, 0, 0, 0.15);\n",
              "      filter: drop-shadow(0px 1px 2px rgba(0, 0, 0, 0.3));\n",
              "      fill: #FFFFFF;\n",
              "    }\n",
              "  </style>\n",
              "\n",
              "      <script>\n",
              "        const buttonEl =\n",
              "          document.querySelector('#df-383a23b7-77e5-4c7b-84fb-427543c58cfe button.colab-df-convert');\n",
              "        buttonEl.style.display =\n",
              "          google.colab.kernel.accessAllowed ? 'block' : 'none';\n",
              "\n",
              "        async function convertToInteractive(key) {\n",
              "          const element = document.querySelector('#df-383a23b7-77e5-4c7b-84fb-427543c58cfe');\n",
              "          const dataTable =\n",
              "            await google.colab.kernel.invokeFunction('convertToInteractive',\n",
              "                                                     [key], {});\n",
              "          if (!dataTable) return;\n",
              "\n",
              "          const docLinkHtml = 'Like what you see? Visit the ' +\n",
              "            '<a target=\"_blank\" href=https://colab.research.google.com/notebooks/data_table.ipynb>data table notebook</a>'\n",
              "            + ' to learn more about interactive tables.';\n",
              "          element.innerHTML = '';\n",
              "          dataTable['output_type'] = 'display_data';\n",
              "          await google.colab.output.renderOutput(dataTable, element);\n",
              "          const docLink = document.createElement('div');\n",
              "          docLink.innerHTML = docLinkHtml;\n",
              "          element.appendChild(docLink);\n",
              "        }\n",
              "      </script>\n",
              "    </div>\n",
              "  </div>\n",
              "  "
            ]
          },
          "metadata": {},
          "execution_count": 14
        }
      ]
    },
    {
      "cell_type": "markdown",
      "source": [
        "# This will be explained thoroughly in my next code as the project instruction focuses on prediciting crime_rate"
      ],
      "metadata": {
        "id": "6jDx63SmBn19"
      }
    },
    {
      "cell_type": "markdown",
      "source": [
        "# Building the Decision Tree Model\n",
        "## Decision Tree can be used on either classification or regression problem in ML Algorithm\n",
        "### In this case, crime rate is a continuous variable thus it is a regression problem.\n",
        "#### Import the DecisionTreeRegressor for regression problem and DecisionTreeClassifier for classification problem\n",
        "#### In this case, the DecisionTreeRegressor would be imported.\n"
      ],
      "metadata": {
        "id": "pGWpA9BJB_X3"
      }
    },
    {
      "cell_type": "code",
      "source": [
        "from sklearn.tree import DecisionTreeRegressor # importing decision tree library\n",
        "\n",
        "SMA_model = DecisionTreeRegressor(random_state=1) # The random state is to return same result if the command is run over, over, and again\n",
        "\n",
        "SMA_model.fit(x,y)"
      ],
      "metadata": {
        "colab": {
          "base_uri": "https://localhost:8080/"
        },
        "id": "WPZloSW6CzaM",
        "outputId": "9283a5d4-b557-4507-b464-fa0544fa5e77"
      },
      "execution_count": 15,
      "outputs": [
        {
          "output_type": "execute_result",
          "data": {
            "text/plain": [
              "DecisionTreeRegressor(random_state=1)"
            ]
          },
          "metadata": {},
          "execution_count": 15
        }
      ]
    },
    {
      "cell_type": "markdown",
      "source": [
        "#### We now have a fitted model that can be used to make predictions.\n",
        "#### Make prediction for the first five rows of the training data"
      ],
      "metadata": {
        "id": "_OS3fmeoDqBn"
      }
    },
    {
      "cell_type": "code",
      "source": [
        "print(\"Predicting Crime Rate\")\n",
        "print(x.head())\n",
        "print(\"The predictions are\")\n",
        "print(SMA_model.predict(x.head()))"
      ],
      "metadata": {
        "colab": {
          "base_uri": "https://localhost:8080/"
        },
        "id": "t-_UK9NrEAnu",
        "outputId": "867deacb-bd09-4a11-928f-bf2648fcee4e"
      },
      "execution_count": 18,
      "outputs": [
        {
          "output_type": "stream",
          "name": "stdout",
          "text": [
            "Predicting Crime Rate\n",
            "   land_area  percent_city  percent_senior  physicians  hospital_beds  \\\n",
            "0       1384          78.1            12.3       25627          69678   \n",
            "1       3719          43.9             9.4       13326          43292   \n",
            "2       3553          37.4            10.7        9724          33731   \n",
            "3       3916          29.9             8.8        6402          24167   \n",
            "4       2480          31.5            10.5        8502          16751   \n",
            "\n",
            "   graduates  work_force  income  region  \n",
            "0       50.1      4083.9   72100       1  \n",
            "1       53.9      3305.9   54542       2  \n",
            "2       50.6      2066.3   33216       1  \n",
            "3       52.2      1966.7   32906       2  \n",
            "4       66.1      1514.5   26573       4  \n",
            "The predictions are\n",
            "[75.55 56.03 41.32 67.38 80.19]\n"
          ]
        }
      ]
    },
    {
      "cell_type": "markdown",
      "source": [
        "## The predicted crime rate accordingly to the Decision Tree Model are:\n",
        "## 75.55, 56.03, 41.32, 67.38, & 80.19\n",
        "## The above predictions are for new crime rate and not existing crime rate as seen in SMA.head() in the earlier command."
      ],
      "metadata": {
        "id": "xEYcnlBMEyjh"
      }
    },
    {
      "cell_type": "markdown",
      "source": [
        "# Note: This ML Model is a non-technical one as instructed by the teacher. The technical ML Model puts into consideration splitting the SMA dataset into training and test datasets, checking for the accuracy_score of the training dataset as well as the test dataset, and other important things.\n",
        "\n",
        "\n",
        "## This will be covered in my next ML Algorithm."
      ],
      "metadata": {
        "id": "Q0ijLjDTFsiI"
      }
    },
    {
      "cell_type": "code",
      "source": [],
      "metadata": {
        "id": "kfaZ46SPGWUU"
      },
      "execution_count": null,
      "outputs": []
    }
  ]
}